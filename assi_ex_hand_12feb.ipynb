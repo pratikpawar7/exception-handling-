{
 "cells": [
  {
   "cell_type": "code",
   "execution_count": null,
   "id": "1f2d74b1-5c96-4fc6-aaa8-61d23f1a2ef7",
   "metadata": {},
   "outputs": [],
   "source": [
    "'''\n",
    "Q1. What is an Exception in python? Write the difference between Exceptions and syntex error '''\n",
    "\n",
    "\n",
    "In Python, an Exception is an error that occurs during the execution of a program, and it disrupts the normal flow of the program.\n",
    "\n",
    "Exceptions are different from Syntax Errors, which are errors that occur when the Python interpreter cannot understand the code because of incorrect syntax.\n",
    "\n",
    "The main difference between Exceptions and Syntax Errors is that Syntax Errors are caught by the interpreter at compile time, while Exceptions are caught at runtime.\n",
    "\n",
    "Exceptions can occur due to various reasons such as improper user input, lack of resources, network failures, etc.\n",
    "\n",
    "In contrast, Syntax Errors occur due to coding mistakes such as misspelling a keyword, missing a punctuation mark, or using an incorrect variable name.\n",
    "\n",
    "Handling Exceptions is necessary to prevent the program from abruptly terminating and to provide useful error messages to the user.\n",
    "\n"
   ]
  },
  {
   "cell_type": "code",
   "execution_count": 2,
   "id": "c9310c94-04c9-4f49-9672-bb2e0c2db593",
   "metadata": {},
   "outputs": [
    {
     "ename": "ZeroDivisionError",
     "evalue": "division by zero",
     "output_type": "error",
     "traceback": [
      "\u001b[0;31m---------------------------------------------------------------------------\u001b[0m",
      "\u001b[0;31mZeroDivisionError\u001b[0m                         Traceback (most recent call last)",
      "Cell \u001b[0;32mIn[2], line 15\u001b[0m\n\u001b[1;32m     12\u001b[0m     b \u001b[38;5;241m=\u001b[39m a \u001b[38;5;241m/\u001b[39m\u001b[38;5;241m0\u001b[39m \n\u001b[1;32m     13\u001b[0m     \u001b[38;5;28mprint\u001b[39m(b)\n\u001b[0;32m---> 15\u001b[0m \u001b[43mfunc\u001b[49m\u001b[43m(\u001b[49m\u001b[38;5;241;43m7\u001b[39;49m\u001b[43m)\u001b[49m\n",
      "Cell \u001b[0;32mIn[2], line 12\u001b[0m, in \u001b[0;36mfunc\u001b[0;34m(a)\u001b[0m\n\u001b[1;32m     11\u001b[0m \u001b[38;5;28;01mdef\u001b[39;00m \u001b[38;5;21mfunc\u001b[39m(a):\n\u001b[0;32m---> 12\u001b[0m     b \u001b[38;5;241m=\u001b[39m \u001b[43ma\u001b[49m\u001b[43m \u001b[49m\u001b[38;5;241;43m/\u001b[39;49m\u001b[38;5;241;43m0\u001b[39;49m \n\u001b[1;32m     13\u001b[0m     \u001b[38;5;28mprint\u001b[39m(b)\n",
      "\u001b[0;31mZeroDivisionError\u001b[0m: division by zero"
     ]
    }
   ],
   "source": [
    "'''\n",
    "Q2 . What happen when exception is not handle? explain with example '''\n",
    "\n",
    "'''\n",
    "When an exception is not handled in Python, it causes the program to terminate abruptly,\n",
    "and an error message is displayed to the user. This can lead to data loss or corruption, \n",
    "and the user may not know how to resolve the issue.\n",
    "'''\n",
    "\n",
    "# example \n",
    "def func(a):\n",
    "    b = a /0 \n",
    "    print(b)\n",
    "    \n",
    "func(7)"
   ]
  },
  {
   "cell_type": "code",
   "execution_count": 6,
   "id": "fd5778bd-caaa-436c-a30e-0faf1ca5adcb",
   "metadata": {},
   "outputs": [
    {
     "name": "stdin",
     "output_type": "stream",
     "text": [
      "Enter a number:  23\n",
      "Enter another number:  0\n"
     ]
    },
    {
     "name": "stdout",
     "output_type": "stream",
     "text": [
      "Error: Cannot divide by zero!\n"
     ]
    }
   ],
   "source": [
    "'''\n",
    "Q3. which python statemnet is used to catch and handle exception ? explain with example \n",
    "'''\n",
    "\n",
    "'''\n",
    "The try block lets you test a block of code for errors.\n",
    "\n",
    "The except block lets you handle the error.\n",
    "\n",
    "The else block lets you execute code when there is no error.\n",
    "\n",
    "The finally block lets you execute code, regardless of the result of the try- and except blocks.\n",
    "\n",
    "'''\n",
    "\n",
    "\n",
    "try:\n",
    "    x = int(input(\"Enter a number: \"))\n",
    "    y = int(input(\"Enter another number: \"))\n",
    "    z = x / y\n",
    "    print(\"The result is:\", z)\n",
    "except ZeroDivisionError:\n",
    "    print(\"Error: Cannot divide by zero!\")\n",
    "except ValueError:\n",
    "    print(\"Error: Invalid input! Please enter integers only.\")\n",
    "\n"
   ]
  },
  {
   "cell_type": "code",
   "execution_count": null,
   "id": "559726f8-4021-4ba5-bd03-1a98bf3e0cf4",
   "metadata": {},
   "outputs": [],
   "source": [
    "'''\n",
    "Q4. explain with example try else , raise , finally \n",
    "'''\n",
    "'''\n",
    "The try block lets you test a block of code for errors.\n",
    "\n",
    "The except block lets you handle the error.\n",
    "\n",
    "The else block lets you execute code when there is no error.\n",
    "\n",
    "The finally block lets you execute code, regardless of the result of the try- and except blocks.\n",
    "\n",
    "The raise keyword is used to raise an exception\n",
    "'''\n",
    "\n",
    "try:\n",
    "  x > 3\n",
    "except:\n",
    "  print(\"Something went wrong\")\n",
    "else:\n",
    "  print(\"Nothing went wrong\")\n",
    "finally:\n",
    "  print(\"The try...except block is finished\")\n",
    "\n",
    "# raise\n",
    "\n",
    "x = \"hello\"\n",
    "\n",
    "if not type(x) is int:\n",
    "  raise TypeError(\"Only integers are allowed\")\n"
   ]
  },
  {
   "cell_type": "code",
   "execution_count": null,
   "id": "8411776d-ed42-4cec-8dd1-ae235cb8e49c",
   "metadata": {},
   "outputs": [],
   "source": [
    "'''\n",
    "Q5. What are Custom Exeptions in python? What do we need Custom Exceptions? Explain with an example\n",
    "'''\n",
    "\n",
    "'''\n",
    "Custom Exceptions in Python are user-defined exceptions that can be raised like built-in exceptions to handle specific errors.\n",
    "\n",
    "We need Custom Exceptions to provide more context-specific error messages to the users of our code.\n",
    "\n",
    "They allow us to define and raise exceptions that better describe the errors that occur in our program, making it easier to understand and debug.\n",
    "\n",
    "By creating custom exceptions, we can also create a more structured and consistent approach to error handling across our program.\n",
    "'''\n",
    "\n",
    "\n",
    "try:\n",
    "    x = int(input(\"Enter a number: \"))\n",
    "    y = int(input(\"Enter another number: \"))\n",
    "    z = x / y\n",
    "    print(\"The result is:\", z)\n",
    "except ZeroDivisionError:\n",
    "    print(\"Error: Cannot divide by zero!\")\n",
    "except ValueError:\n",
    "    print(\"Error: Invalid input! Please enter integers only.\")\n"
   ]
  },
  {
   "cell_type": "code",
   "execution_count": 7,
   "id": "10a0036d-e979-4d17-ab53-101be6adaf0b",
   "metadata": {},
   "outputs": [
    {
     "name": "stdout",
     "output_type": "stream",
     "text": [
      "Error: Cannot divide by zero!\n"
     ]
    }
   ],
   "source": [
    "'''\n",
    "Q6. Create custom exception class. Use this class to handlean exception.\n",
    "'''\n",
    "class ZeroValueError(Exception):\n",
    "    pass\n",
    "\n",
    "def divide_by_two(x):\n",
    "    if x == 0:\n",
    "        raise ZeroValueError(\"Cannot divide by zero!\")\n",
    "    return x / 2\n",
    "\n",
    "try:\n",
    "    result = divide_by_two(0)\n",
    "    print(\"The result is:\", result)\n",
    "except ZeroValueError as e:\n",
    "    print(\"Error:\", str(e))"
   ]
  }
 ],
 "metadata": {
  "kernelspec": {
   "display_name": "Python 3 (ipykernel)",
   "language": "python",
   "name": "python3"
  },
  "language_info": {
   "codemirror_mode": {
    "name": "ipython",
    "version": 3
   },
   "file_extension": ".py",
   "mimetype": "text/x-python",
   "name": "python",
   "nbconvert_exporter": "python",
   "pygments_lexer": "ipython3",
   "version": "3.10.8"
  }
 },
 "nbformat": 4,
 "nbformat_minor": 5
}
